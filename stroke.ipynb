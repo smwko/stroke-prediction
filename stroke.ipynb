{
 "cells": [
  {
   "cell_type": "markdown",
   "id": "8683220b",
   "metadata": {},
   "source": [
    "<img src=\"data:image/png;base64,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\" width=\"180\"/>\n",
    "</div>"
   ]
  },
  {
   "cell_type": "markdown",
   "id": "229abd0b",
   "metadata": {},
   "source": [
    "<h1 style=\"font-family: 'Product Sans Black', sans-serif; font-size: 27px;\">INTELIGENCIA ARTIFICIAL</h1>"
   ]
  },
  {
   "cell_type": "markdown",
   "id": "72d318a9",
   "metadata": {},
   "source": [
    "<h1 style=\"font-family: 'Product Sans Black', sans-serif; font-size: 27px;\">PREDICCIÓN DE ACCIDENTES CEREBROVASCULARES</h1>"
   ]
  },
  {
   "cell_type": "markdown",
   "id": "6e2856a4",
   "metadata": {},
   "source": [
    "**Estudiante:** Junjie Wu\n",
    "\n",
    "**Docente:** Carlos Ramírez Lizan\n",
    "\n",
    "**Segundo semestre**\n",
    "\n",
    "**Junio 2023**\n"
   ]
  },
  {
   "cell_type": "markdown",
   "id": "ceb42b03",
   "metadata": {},
   "source": [
    "<h1 style=\"font-family: 'Product Sans Black', sans-serif; font-size: 20px;\">DESCRIPCIÓN</h1>\n",
    "\n",
    "\n",
    "Utilizaremos técnicas de Machine Learning para predecir la probabilidad de tener un ictus (o accidente cerebrovascular). \n",
    "\n",
    "Contamos con un conjunto de datos que incluye información demográfica y médica de los individuos. \n",
    "\n",
    "Antes de aplicar el modelo de Machine Learning, realizaremos una limpieza y transformación de los datos para asegurar su adecuado procesamiento.\n",
    "\n",
    "<h1 style=\"font-family: 'Product Sans Black', sans-serif; font-size: 20px;\">INFORMACIÓN DE LOS ATRIBUTOS</h1>\n",
    "\n",
    "\n",
    "1) **id:** identificador único\n",
    "\n",
    "2) **gender:** (0)\"Male\", (1)\"Female\" u (2)\"Other\"\n",
    "\n",
    "3) **age:** edad del paciente\n",
    "\n",
    "4) **hypertension:** 0 = no tiene hipertensión, 1 = tiene hipertensión\n",
    "\n",
    "5) **heart_disease:** 0 = no tiene ninguna enfermedad cardiovascular, 1 = tiene alguna enfermedad cardiovascular\n",
    "\n",
    "6) **ever_married:** (0)\"No\" or (1)\"Yes\"\n",
    "\n",
    "7) **work_type:** (0)\"children\", (1)\"Govt_jov\", (2)\"Never_worked\", (3)\"Private\" or (4)\"Self-employed\"\n",
    "\n",
    "8) **Residence_type:** (0)\"Rural\" or (1)\"Urban\"\n",
    "\n",
    "9) **avg_glucose_level:** media de niveles de glucosa en sangre\n",
    "\n",
    "10) **bmi:** índice de masa corporal \n",
    "\n",
    "11) **smoking_status:** (0)\"formerly smoked\", (1)\"never smoked\", (2)\"smokes\" or (3)\"Unknown\"*\n",
    "\n",
    "12) **stroke:** 1 = si tuvo ictus o un accidente cerebrovascular or 0 = si no lo tuvo\n",
    "\n",
    "Nota: \"Unknown\" en smoking_status significa que la información no está disponible para ese paciente\n",
    "\n",
    "*Referencia: https://www.kaggle.com/datasets/fedesoriano/stroke-prediction-dataset*\n"
   ]
  },
  {
   "cell_type": "markdown",
   "id": "72ecd549",
   "metadata": {},
   "source": [
    "<a id=\"1\"></a><h1 align=\"center\" style=\"font-family: 'Product Sans Black', sans-serif; font-size: 27px; background-color: #ccdbfd; padding: 14px; box-shadow: 2px 2px 5px rgba(0, 0, 0, 0.2); color: #333333;\">IMPORTAR DATASET</h1>\n"
   ]
  },
  {
   "cell_type": "code",
   "execution_count": 1,
   "id": "23058b52",
   "metadata": {},
   "outputs": [
    {
     "data": {
      "text/html": [
       "<div>\n",
       "<style scoped>\n",
       "    .dataframe tbody tr th:only-of-type {\n",
       "        vertical-align: middle;\n",
       "    }\n",
       "\n",
       "    .dataframe tbody tr th {\n",
       "        vertical-align: top;\n",
       "    }\n",
       "\n",
       "    .dataframe thead th {\n",
       "        text-align: right;\n",
       "    }\n",
       "</style>\n",
       "<table border=\"1\" class=\"dataframe\">\n",
       "  <thead>\n",
       "    <tr style=\"text-align: right;\">\n",
       "      <th></th>\n",
       "      <th>id</th>\n",
       "      <th>gender</th>\n",
       "      <th>age</th>\n",
       "      <th>hypertension</th>\n",
       "      <th>heart_disease</th>\n",
       "      <th>ever_married</th>\n",
       "      <th>work_type</th>\n",
       "      <th>Residence_type</th>\n",
       "      <th>avg_glucose_level</th>\n",
       "      <th>bmi</th>\n",
       "      <th>smoking_status</th>\n",
       "      <th>stroke</th>\n",
       "    </tr>\n",
       "  </thead>\n",
       "  <tbody>\n",
       "    <tr>\n",
       "      <th>0</th>\n",
       "      <td>9046</td>\n",
       "      <td>Male</td>\n",
       "      <td>67.0</td>\n",
       "      <td>0</td>\n",
       "      <td>1</td>\n",
       "      <td>Yes</td>\n",
       "      <td>Private</td>\n",
       "      <td>Urban</td>\n",
       "      <td>228.69</td>\n",
       "      <td>36.6</td>\n",
       "      <td>formerly smoked</td>\n",
       "      <td>1</td>\n",
       "    </tr>\n",
       "    <tr>\n",
       "      <th>1</th>\n",
       "      <td>51676</td>\n",
       "      <td>Female</td>\n",
       "      <td>61.0</td>\n",
       "      <td>0</td>\n",
       "      <td>0</td>\n",
       "      <td>Yes</td>\n",
       "      <td>Self-employed</td>\n",
       "      <td>Rural</td>\n",
       "      <td>202.21</td>\n",
       "      <td>NaN</td>\n",
       "      <td>never smoked</td>\n",
       "      <td>1</td>\n",
       "    </tr>\n",
       "    <tr>\n",
       "      <th>2</th>\n",
       "      <td>31112</td>\n",
       "      <td>Male</td>\n",
       "      <td>80.0</td>\n",
       "      <td>0</td>\n",
       "      <td>1</td>\n",
       "      <td>Yes</td>\n",
       "      <td>Private</td>\n",
       "      <td>Rural</td>\n",
       "      <td>105.92</td>\n",
       "      <td>32.5</td>\n",
       "      <td>never smoked</td>\n",
       "      <td>1</td>\n",
       "    </tr>\n",
       "    <tr>\n",
       "      <th>3</th>\n",
       "      <td>60182</td>\n",
       "      <td>Female</td>\n",
       "      <td>49.0</td>\n",
       "      <td>0</td>\n",
       "      <td>0</td>\n",
       "      <td>Yes</td>\n",
       "      <td>Private</td>\n",
       "      <td>Urban</td>\n",
       "      <td>171.23</td>\n",
       "      <td>34.4</td>\n",
       "      <td>smokes</td>\n",
       "      <td>1</td>\n",
       "    </tr>\n",
       "    <tr>\n",
       "      <th>4</th>\n",
       "      <td>1665</td>\n",
       "      <td>Female</td>\n",
       "      <td>79.0</td>\n",
       "      <td>1</td>\n",
       "      <td>0</td>\n",
       "      <td>Yes</td>\n",
       "      <td>Self-employed</td>\n",
       "      <td>Rural</td>\n",
       "      <td>174.12</td>\n",
       "      <td>24.0</td>\n",
       "      <td>never smoked</td>\n",
       "      <td>1</td>\n",
       "    </tr>\n",
       "  </tbody>\n",
       "</table>\n",
       "</div>"
      ],
      "text/plain": [
       "      id  gender   age  hypertension  heart_disease ever_married  \\\n",
       "0   9046    Male  67.0             0              1          Yes   \n",
       "1  51676  Female  61.0             0              0          Yes   \n",
       "2  31112    Male  80.0             0              1          Yes   \n",
       "3  60182  Female  49.0             0              0          Yes   \n",
       "4   1665  Female  79.0             1              0          Yes   \n",
       "\n",
       "       work_type Residence_type  avg_glucose_level   bmi   smoking_status  \\\n",
       "0        Private          Urban             228.69  36.6  formerly smoked   \n",
       "1  Self-employed          Rural             202.21   NaN     never smoked   \n",
       "2        Private          Rural             105.92  32.5     never smoked   \n",
       "3        Private          Urban             171.23  34.4           smokes   \n",
       "4  Self-employed          Rural             174.12  24.0     never smoked   \n",
       "\n",
       "   stroke  \n",
       "0       1  \n",
       "1       1  \n",
       "2       1  \n",
       "3       1  \n",
       "4       1  "
      ]
     },
     "execution_count": 1,
     "metadata": {},
     "output_type": "execute_result"
    }
   ],
   "source": [
    "import pandas as pd\n",
    "data = pd.read_csv('healthcare-dataset-stroke-data.csv')\n",
    "data.head()"
   ]
  },
  {
   "cell_type": "markdown",
   "id": "f81b6c73",
   "metadata": {},
   "source": [
    "<a id=\"1\"></a><h1 align=\"center\" style=\"font-family: 'Product Sans Black', sans-serif; font-size: 27px; background-color: #ccdbfd; padding: 14px; box-shadow: 2px 2px 5px rgba(0, 0, 0, 0.2); color: #333333;\">LIMPIEZA DE DATOS</h1>\n"
   ]
  },
  {
   "cell_type": "markdown",
   "id": "756a6e48",
   "metadata": {},
   "source": [
    "Tras visualizar la dataset, podemos observar que debemos realizar las siguientes limpiezas:\n",
    "* Hacer un drop de los valores NaN\n",
    "* Transformar los valores String a valores numéricos"
   ]
  },
  {
   "cell_type": "code",
   "execution_count": 2,
   "id": "95b62afd",
   "metadata": {},
   "outputs": [],
   "source": [
    "stroke = data.copy()"
   ]
  },
  {
   "cell_type": "code",
   "execution_count": 3,
   "id": "70bd7620",
   "metadata": {},
   "outputs": [],
   "source": [
    "stroke = stroke.drop(['id'], axis = 1)"
   ]
  },
  {
   "cell_type": "code",
   "execution_count": 4,
   "id": "9926aaae",
   "metadata": {},
   "outputs": [],
   "source": [
    "stroke = stroke.dropna()"
   ]
  },
  {
   "cell_type": "code",
   "execution_count": 5,
   "id": "7a67e0cd",
   "metadata": {},
   "outputs": [
    {
     "data": {
      "text/plain": [
       "0    4700\n",
       "1     209\n",
       "Name: stroke, dtype: int64"
      ]
     },
     "execution_count": 5,
     "metadata": {},
     "output_type": "execute_result"
    }
   ],
   "source": [
    "#Value counts de la variable target\n",
    "stroke['stroke'].value_counts()"
   ]
  },
  {
   "cell_type": "markdown",
   "id": "2402c573",
   "metadata": {},
   "source": [
    "Reemplazamos por valores numéricos. (P.e.: Cambiar Male por un valor de 0, Female por un valor de 1 y en caso de que otro sexto, cambiar por un valor de 2)"
   ]
  },
  {
   "cell_type": "code",
   "execution_count": 6,
   "id": "f2cae0c3",
   "metadata": {},
   "outputs": [],
   "source": [
    "# Mapear los valores de texto a numéricos\n",
    "stroke['gender'] = stroke['gender'].map({'Male': 0, 'Female': 1, 'Other': 2})\n",
    "stroke['ever_married'] = stroke['ever_married'].map({'No': 0, 'Yes': 1})\n",
    "stroke['work_type'] = stroke['work_type'].map({'children': 0, 'Govt_job': 1, 'Never_worked': 2, 'Private': 3, 'Self-employed': 4})\n",
    "stroke['Residence_type'] = stroke['Residence_type'].map({'Rural': 0, 'Urban': 1})\n",
    "stroke['smoking_status'] = stroke['smoking_status'].map({'formerly smoked': 0, 'never smoked': 1, 'smokes': 2, 'Unknown': 3})"
   ]
  },
  {
   "cell_type": "code",
   "execution_count": 7,
   "id": "733d9ef7",
   "metadata": {},
   "outputs": [
    {
     "data": {
      "text/html": [
       "<div>\n",
       "<style scoped>\n",
       "    .dataframe tbody tr th:only-of-type {\n",
       "        vertical-align: middle;\n",
       "    }\n",
       "\n",
       "    .dataframe tbody tr th {\n",
       "        vertical-align: top;\n",
       "    }\n",
       "\n",
       "    .dataframe thead th {\n",
       "        text-align: right;\n",
       "    }\n",
       "</style>\n",
       "<table border=\"1\" class=\"dataframe\">\n",
       "  <thead>\n",
       "    <tr style=\"text-align: right;\">\n",
       "      <th></th>\n",
       "      <th>gender</th>\n",
       "      <th>age</th>\n",
       "      <th>hypertension</th>\n",
       "      <th>heart_disease</th>\n",
       "      <th>ever_married</th>\n",
       "      <th>work_type</th>\n",
       "      <th>Residence_type</th>\n",
       "      <th>avg_glucose_level</th>\n",
       "      <th>bmi</th>\n",
       "      <th>smoking_status</th>\n",
       "      <th>stroke</th>\n",
       "    </tr>\n",
       "  </thead>\n",
       "  <tbody>\n",
       "    <tr>\n",
       "      <th>0</th>\n",
       "      <td>0</td>\n",
       "      <td>67.0</td>\n",
       "      <td>0</td>\n",
       "      <td>1</td>\n",
       "      <td>1</td>\n",
       "      <td>3</td>\n",
       "      <td>1</td>\n",
       "      <td>228.69</td>\n",
       "      <td>36.6</td>\n",
       "      <td>0</td>\n",
       "      <td>1</td>\n",
       "    </tr>\n",
       "    <tr>\n",
       "      <th>2</th>\n",
       "      <td>0</td>\n",
       "      <td>80.0</td>\n",
       "      <td>0</td>\n",
       "      <td>1</td>\n",
       "      <td>1</td>\n",
       "      <td>3</td>\n",
       "      <td>0</td>\n",
       "      <td>105.92</td>\n",
       "      <td>32.5</td>\n",
       "      <td>1</td>\n",
       "      <td>1</td>\n",
       "    </tr>\n",
       "    <tr>\n",
       "      <th>3</th>\n",
       "      <td>1</td>\n",
       "      <td>49.0</td>\n",
       "      <td>0</td>\n",
       "      <td>0</td>\n",
       "      <td>1</td>\n",
       "      <td>3</td>\n",
       "      <td>1</td>\n",
       "      <td>171.23</td>\n",
       "      <td>34.4</td>\n",
       "      <td>2</td>\n",
       "      <td>1</td>\n",
       "    </tr>\n",
       "    <tr>\n",
       "      <th>4</th>\n",
       "      <td>1</td>\n",
       "      <td>79.0</td>\n",
       "      <td>1</td>\n",
       "      <td>0</td>\n",
       "      <td>1</td>\n",
       "      <td>4</td>\n",
       "      <td>0</td>\n",
       "      <td>174.12</td>\n",
       "      <td>24.0</td>\n",
       "      <td>1</td>\n",
       "      <td>1</td>\n",
       "    </tr>\n",
       "    <tr>\n",
       "      <th>5</th>\n",
       "      <td>0</td>\n",
       "      <td>81.0</td>\n",
       "      <td>0</td>\n",
       "      <td>0</td>\n",
       "      <td>1</td>\n",
       "      <td>3</td>\n",
       "      <td>1</td>\n",
       "      <td>186.21</td>\n",
       "      <td>29.0</td>\n",
       "      <td>0</td>\n",
       "      <td>1</td>\n",
       "    </tr>\n",
       "  </tbody>\n",
       "</table>\n",
       "</div>"
      ],
      "text/plain": [
       "   gender   age  hypertension  heart_disease  ever_married  work_type  \\\n",
       "0       0  67.0             0              1             1          3   \n",
       "2       0  80.0             0              1             1          3   \n",
       "3       1  49.0             0              0             1          3   \n",
       "4       1  79.0             1              0             1          4   \n",
       "5       0  81.0             0              0             1          3   \n",
       "\n",
       "   Residence_type  avg_glucose_level   bmi  smoking_status  stroke  \n",
       "0               1             228.69  36.6               0       1  \n",
       "2               0             105.92  32.5               1       1  \n",
       "3               1             171.23  34.4               2       1  \n",
       "4               0             174.12  24.0               1       1  \n",
       "5               1             186.21  29.0               0       1  "
      ]
     },
     "execution_count": 7,
     "metadata": {},
     "output_type": "execute_result"
    }
   ],
   "source": [
    "stroke.head()"
   ]
  },
  {
   "cell_type": "code",
   "execution_count": 8,
   "id": "62029db4",
   "metadata": {},
   "outputs": [
    {
     "data": {
      "text/plain": [
       "Index([], dtype='object')"
      ]
     },
     "execution_count": 8,
     "metadata": {},
     "output_type": "execute_result"
    }
   ],
   "source": [
    "# Confirmamos que no nos hemos dejado ninguna celda en nulo, ya que al hacer la sustitución, \n",
    "# cualquier error dará como resultado un reemplazo por un null. \n",
    "stroke.columns[stroke.isnull().any()]"
   ]
  },
  {
   "cell_type": "code",
   "execution_count": 9,
   "id": "e1e3b81f",
   "metadata": {},
   "outputs": [
    {
     "data": {
      "text/html": [
       "<style>#sk-container-id-1 {color: black;background-color: white;}#sk-container-id-1 pre{padding: 0;}#sk-container-id-1 div.sk-toggleable {background-color: white;}#sk-container-id-1 label.sk-toggleable__label {cursor: pointer;display: block;width: 100%;margin-bottom: 0;padding: 0.3em;box-sizing: border-box;text-align: center;}#sk-container-id-1 label.sk-toggleable__label-arrow:before {content: \"▸\";float: left;margin-right: 0.25em;color: #696969;}#sk-container-id-1 label.sk-toggleable__label-arrow:hover:before {color: black;}#sk-container-id-1 div.sk-estimator:hover label.sk-toggleable__label-arrow:before {color: black;}#sk-container-id-1 div.sk-toggleable__content {max-height: 0;max-width: 0;overflow: hidden;text-align: left;background-color: #f0f8ff;}#sk-container-id-1 div.sk-toggleable__content pre {margin: 0.2em;color: black;border-radius: 0.25em;background-color: #f0f8ff;}#sk-container-id-1 input.sk-toggleable__control:checked~div.sk-toggleable__content {max-height: 200px;max-width: 100%;overflow: auto;}#sk-container-id-1 input.sk-toggleable__control:checked~label.sk-toggleable__label-arrow:before {content: \"▾\";}#sk-container-id-1 div.sk-estimator input.sk-toggleable__control:checked~label.sk-toggleable__label {background-color: #d4ebff;}#sk-container-id-1 div.sk-label input.sk-toggleable__control:checked~label.sk-toggleable__label {background-color: #d4ebff;}#sk-container-id-1 input.sk-hidden--visually {border: 0;clip: rect(1px 1px 1px 1px);clip: rect(1px, 1px, 1px, 1px);height: 1px;margin: -1px;overflow: hidden;padding: 0;position: absolute;width: 1px;}#sk-container-id-1 div.sk-estimator {font-family: monospace;background-color: #f0f8ff;border: 1px dotted black;border-radius: 0.25em;box-sizing: border-box;margin-bottom: 0.5em;}#sk-container-id-1 div.sk-estimator:hover {background-color: #d4ebff;}#sk-container-id-1 div.sk-parallel-item::after {content: \"\";width: 100%;border-bottom: 1px solid gray;flex-grow: 1;}#sk-container-id-1 div.sk-label:hover label.sk-toggleable__label {background-color: #d4ebff;}#sk-container-id-1 div.sk-serial::before {content: \"\";position: absolute;border-left: 1px solid gray;box-sizing: border-box;top: 0;bottom: 0;left: 50%;z-index: 0;}#sk-container-id-1 div.sk-serial {display: flex;flex-direction: column;align-items: center;background-color: white;padding-right: 0.2em;padding-left: 0.2em;position: relative;}#sk-container-id-1 div.sk-item {position: relative;z-index: 1;}#sk-container-id-1 div.sk-parallel {display: flex;align-items: stretch;justify-content: center;background-color: white;position: relative;}#sk-container-id-1 div.sk-item::before, #sk-container-id-1 div.sk-parallel-item::before {content: \"\";position: absolute;border-left: 1px solid gray;box-sizing: border-box;top: 0;bottom: 0;left: 50%;z-index: -1;}#sk-container-id-1 div.sk-parallel-item {display: flex;flex-direction: column;z-index: 1;position: relative;background-color: white;}#sk-container-id-1 div.sk-parallel-item:first-child::after {align-self: flex-end;width: 50%;}#sk-container-id-1 div.sk-parallel-item:last-child::after {align-self: flex-start;width: 50%;}#sk-container-id-1 div.sk-parallel-item:only-child::after {width: 0;}#sk-container-id-1 div.sk-dashed-wrapped {border: 1px dashed gray;margin: 0 0.4em 0.5em 0.4em;box-sizing: border-box;padding-bottom: 0.4em;background-color: white;}#sk-container-id-1 div.sk-label label {font-family: monospace;font-weight: bold;display: inline-block;line-height: 1.2em;}#sk-container-id-1 div.sk-label-container {text-align: center;}#sk-container-id-1 div.sk-container {/* jupyter's `normalize.less` sets `[hidden] { display: none; }` but bootstrap.min.css set `[hidden] { display: none !important; }` so we also need the `!important` here to be able to override the default hidden behavior on the sphinx rendered scikit-learn.org. See: https://github.com/scikit-learn/scikit-learn/issues/21755 */display: inline-block !important;position: relative;}#sk-container-id-1 div.sk-text-repr-fallback {display: none;}</style><div id=\"sk-container-id-1\" class=\"sk-top-container\"><div class=\"sk-text-repr-fallback\"><pre>RandomForestClassifier()</pre><b>In a Jupyter environment, please rerun this cell to show the HTML representation or trust the notebook. <br />On GitHub, the HTML representation is unable to render, please try loading this page with nbviewer.org.</b></div><div class=\"sk-container\" hidden><div class=\"sk-item\"><div class=\"sk-estimator sk-toggleable\"><input class=\"sk-toggleable__control sk-hidden--visually\" id=\"sk-estimator-id-1\" type=\"checkbox\" checked><label for=\"sk-estimator-id-1\" class=\"sk-toggleable__label sk-toggleable__label-arrow\">RandomForestClassifier</label><div class=\"sk-toggleable__content\"><pre>RandomForestClassifier()</pre></div></div></div></div></div>"
      ],
      "text/plain": [
       "RandomForestClassifier()"
      ]
     },
     "execution_count": 9,
     "metadata": {},
     "output_type": "execute_result"
    }
   ],
   "source": [
    "from sklearn.model_selection import train_test_split\n",
    "from imblearn.over_sampling import RandomOverSampler\n",
    "from sklearn.ensemble import RandomForestClassifier\n",
    "from sklearn.pipeline import Pipeline\n",
    "from sklearn.metrics import accuracy_score\n",
    "# X almacena todas las variables influyentes\n",
    "X = stroke.drop('stroke',axis=1)\n",
    "# y almacena la variable objetivo\n",
    "y = stroke['stroke']\n",
    "# Dividimos el conjunto en entrenamiento y prueba\n",
    "X_train, X_test, y_train, y_test = train_test_split(X,y,test_size=0.20)\n",
    "# Creamos el modelo\n",
    "oversample = RandomOverSampler(sampling_strategy='minority')\n",
    "X_over, y_over = oversample.fit_resample(X_train,y_train)\n",
    "rf = RandomForestClassifier()\n",
    "rf.fit(X_over,y_over)"
   ]
  },
  {
   "cell_type": "code",
   "execution_count": 10,
   "id": "9147bc47",
   "metadata": {},
   "outputs": [
    {
     "name": "stdout",
     "output_type": "stream",
     "text": [
      "0.9429735234215886\n"
     ]
    }
   ],
   "source": [
    "# Calculamos el accuracy del modelo\n",
    "preds = rf.predict(X_test)\n",
    "print(accuracy_score(y_test,preds))"
   ]
  },
  {
   "cell_type": "markdown",
   "id": "1647fbbb",
   "metadata": {},
   "source": [
    "El archivo `fhs_rf_model.pkl`contendrá toda la información necesaria para **reconstruir el modelo entrenado** y permitirá cargarlo nuevamente en un programa Python utilizando la función joblib.load(). \n",
    "\n",
    "Esto es útil porque **evita tener que volver a entrenar el modelo desde cero** cada vez que se necesite utilizarlo, lo que puede ser un proceso costoso en términos de tiempo y recursos computacionales."
   ]
  },
  {
   "cell_type": "code",
   "execution_count": 11,
   "id": "c99fc4d2",
   "metadata": {},
   "outputs": [
    {
     "data": {
      "text/plain": [
       "['fhs_rf_model.pkl']"
      ]
     },
     "execution_count": 11,
     "metadata": {},
     "output_type": "execute_result"
    }
   ],
   "source": [
    "import joblib\n",
    "joblib.dump(rf, 'fhs_rf_model.pkl')"
   ]
  }
 ],
 "metadata": {
  "kernelspec": {
   "display_name": "Python 3 (ipykernel)",
   "language": "python",
   "name": "python3"
  },
  "language_info": {
   "codemirror_mode": {
    "name": "ipython",
    "version": 3
   },
   "file_extension": ".py",
   "mimetype": "text/x-python",
   "name": "python",
   "nbconvert_exporter": "python",
   "pygments_lexer": "ipython3",
   "version": "3.9.16"
  }
 },
 "nbformat": 4,
 "nbformat_minor": 5
}
