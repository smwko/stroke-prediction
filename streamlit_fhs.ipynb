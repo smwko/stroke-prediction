{
 "cells": [
  {
   "cell_type": "code",
   "execution_count": 1,
   "id": "fbbc12b4",
   "metadata": {},
   "outputs": [],
   "source": [
    "import streamlit as st\n",
    "import joblib\n",
    "import pandas as pd"
   ]
  },
  {
   "cell_type": "code",
   "execution_count": 2,
   "id": "2431f46e",
   "metadata": {},
   "outputs": [
    {
     "name": "stderr",
     "output_type": "stream",
     "text": [
      "2023-06-10 21:17:36.792 \n",
      "  \u001b[33m\u001b[1mWarning:\u001b[0m to view this Streamlit app on a browser, run it with the following\n",
      "  command:\n",
      "\n",
      "    streamlit run C:\\Users\\junji\\anaconda3\\envs\\InteligenciaArtificial\\lib\\site-packages\\ipykernel_launcher.py [ARGUMENTS]\n"
     ]
    }
   ],
   "source": [
    "st.write(\"# Stroke Prediction\")"
   ]
  },
  {
   "cell_type": "markdown",
   "id": "421843de",
   "metadata": {},
   "source": [
    "Diseñando las preguntas que se realizarán al usuario y qué tipo de opciones se permitirán para contestar"
   ]
  },
  {
   "cell_type": "code",
   "execution_count": 3,
   "id": "c50b772c",
   "metadata": {},
   "outputs": [],
   "source": [
    "gender = st.selectbox(\"Introduzca su género\",[\"Hombre\", \"Mujer\", \"Otro\"])\n",
    "col1, col2, col3 = st.columns(3)\n",
    "\n",
    "# getting user inputgender = col1.selectbox(\"Enter your gender\",[\"Male\", \"Female\"])\n",
    "\n",
    "age = col2.number_input(\"Introduzca su edad\")\n",
    "hypertension = col3.selectbox(\"Tienes hipertensión?\",[\"Sí\", \"No\"])\n",
    "\n",
    "heart_disease = col1.selectbox(\"Tienes alguna enfermedad cardiovascular?\",[\"Sí\",\"No\"])\n",
    "\n",
    "ever_married = col2.selectbox(\"Te has casado alguna vez?\",[\"Sí\", \"No\"])\n",
    "\n",
    "work_type = col3.selectbox(\"Escoja su tipo de empleo o trabajo\",[\"Soy menor\",\"Empleo gubernamental\", \"Nunca he trabajado\", \"Sector privado\", \"Autónomo\"])\n",
    "\n",
    "Residence_type = col1.selectbox(\"Escoja su tipo de residencia\",[\"Rural\",\"Urbano\"])\n",
    "\n",
    "avg_glucose_level = col2.number_input(\"Introduzca la media de su nivel de glucosa en sangre\")\n",
    "\n",
    "bmi = col3.number_input(\"Introduzca su índice de masa corporal\")\n",
    "st.write(\"Si necesita calcular su índice de masa corporal, puede visitar la siguiente página web: [https://www.cdc.gov/healthyweight/spanish/assessing/bmi/adult_bmi/metric_bmi_calculator/bmi_calculator.html]\")\n",
    "\n",
    "smoking_status = col1.selectbox(\"Fuma?\",[\"Nunca he fumado\",\"Antes fumaba\", \"Soy fumador\", \"Prefiero no contestar\"])"
   ]
  },
  {
   "cell_type": "markdown",
   "id": "545c8a79",
   "metadata": {},
   "source": [
    "Transformar las respuestas de los usuarios a valores numéricos"
   ]
  },
  {
   "cell_type": "markdown",
   "id": "fb106f29",
   "metadata": {},
   "source": [
    "> Importante mantener los mismos valores numéricos para cada variable en todos los casos"
   ]
  },
  {
   "cell_type": "code",
   "execution_count": 4,
   "id": "66c67184",
   "metadata": {},
   "outputs": [],
   "source": [
    "df_pred = pd.DataFrame([[gender, age, hypertension, heart_disease, ever_married, work_type, Residence_type, avg_glucose_level, bmi, smoking_status]], columns=['gender', 'age', 'hypertension', 'heart_disease', 'ever_married', 'work_type', 'Residence_type', 'avg_glucose_level', 'bmi', 'smoking_status'])\n",
    "\n",
    "\n",
    "df_pred['hypertension'] = df_pred['hypertension'].apply(lambda x: 1 if x == 'Sí' else 0)\n",
    "\n",
    "df_pred['heart_disease'] = df_pred['heart_disease'].apply(lambda x: 1 if x == 'Sí' else 0)\n",
    "\n",
    "df_pred['ever_married'] = df_pred['ever_married'].apply(lambda x: 1 if x == 'Sí' else 0)\n",
    "\n",
    "df_pred['Residence_type'] = df_pred['Residence_type'].apply(lambda x: 1 if x == 'Urban' else 0)\n",
    "\n",
    "def transform_gender(data):\n",
    "    if data == 'Hombre':\n",
    "        return 0\n",
    "    elif data == 'Mujer':\n",
    "        return 1\n",
    "    else:\n",
    "        return 2\n",
    "\n",
    "def transform_work(data):\n",
    "    if data == 'Soy menor':\n",
    "        return 0\n",
    "    elif data == 'Empleo gubernamental':\n",
    "        return 1\n",
    "    elif data == 'Nunca he trabajado':\n",
    "        return 2\n",
    "    elif data == 'Sector privado':\n",
    "        return 3\n",
    "    else:\n",
    "        return 4\n",
    "\n",
    "def transform_smoke(data):\n",
    "    if data == 'Nunca he fumado':\n",
    "        return 1\n",
    "    elif data == 'Antes fumaba':\n",
    "        return 0\n",
    "    elif data == 'Soy fumador':\n",
    "        return 2\n",
    "    else:\n",
    "        return 3\n",
    "\n",
    "df_pred['gender'] = df_pred['gender'].apply(transform_gender)\n",
    "df_pred['work_type'] = df_pred['work_type'].apply(transform_work)\n",
    "df_pred['smoking_status'] = df_pred['smoking_status'].apply(transform_smoke)"
   ]
  },
  {
   "cell_type": "code",
   "execution_count": 5,
   "id": "8f21fd70",
   "metadata": {},
   "outputs": [],
   "source": [
    "# Cargamos el modelo entrenado\n",
    "model = joblib.load('fhs_rf_model.pkl')\n",
    "prediction = model.predict(df_pred)"
   ]
  },
  {
   "cell_type": "code",
   "execution_count": 6,
   "id": "3fe47707",
   "metadata": {},
   "outputs": [],
   "source": [
    "# Dependiendo de los seleccionados, la predicción será una u otra\n",
    "if st.button('Predict'):\n",
    "    if prediction[0] == 0:\n",
    "        st.write('<p class=\"big-font\">Es poco probable que sufras un ictus/accidente cerebrovascular. Sin embargo, siempre es importante consultar a tu médico para una evaluación más completa.</p>', unsafe_allow_html=True)\n",
    "    else:\n",
    "        st.write('<p class=\"big-font\">Es probable que tengas un riesgo de ictus/accidente cerebrovascular. Es recomendable que consultes a tu médico para un diagnóstico y tratamiento adecuados.</p>', unsafe_allow_html=True)"
   ]
  },
  {
   "cell_type": "code",
   "execution_count": null,
   "id": "a773457b",
   "metadata": {},
   "outputs": [],
   "source": []
  }
 ],
 "metadata": {
  "kernelspec": {
   "display_name": "Python 3 (ipykernel)",
   "language": "python",
   "name": "python3"
  },
  "language_info": {
   "codemirror_mode": {
    "name": "ipython",
    "version": 3
   },
   "file_extension": ".py",
   "mimetype": "text/x-python",
   "name": "python",
   "nbconvert_exporter": "python",
   "pygments_lexer": "ipython3",
   "version": "3.9.16"
  }
 },
 "nbformat": 4,
 "nbformat_minor": 5
}
